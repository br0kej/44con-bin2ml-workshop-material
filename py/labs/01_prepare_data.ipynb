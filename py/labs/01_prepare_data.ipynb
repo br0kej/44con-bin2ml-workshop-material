{
 "cells": [
  {
   "cell_type": "markdown",
   "id": "fc1434b46d1d783d",
   "metadata": {},
   "source": [
    "# Prepare Training Data\n",
    "\n",
    "In this notebook, you will load and prepare the data ready for training your first GNN. We will load the processed JSON files into `networkx` `DiGraph` objects, convert them into pytorch geometric `Data` objects and then save them to disk ready to be loaded for model training.\n",
    "\n",
    "**Note:** If you are loading your own processed data (i.e output from `bin2ml`), you will need to amend the constants defined in the code block below."
   ]
  },
  {
   "cell_type": "code",
   "execution_count": null,
   "id": "initial_id",
   "metadata": {},
   "outputs": [],
   "source": [
    "PATH_TO_PROCESSED_JSON = \"../../data/training/graphs\"\n",
    "OUTPUT_TRAIN_PKL_FILENAME = \"../train.pkl\"\n",
    "OUTPUT_TEST_PKL_FILENAME = \"../test.pkl\"\n",
    "NUM_CPUS_TO_USE = -1"
   ]
  },
  {
   "cell_type": "code",
   "execution_count": null,
   "id": "d0a8272fb32234e5",
   "metadata": {},
   "outputs": [],
   "source": [
    "from bin2mlpy.data_utils.convert_and_pickle import get_all_filenames, process_single_graph, format_and_clean_up_data_objs, save_as_pickled_data, split_train_eval\n",
    "from joblib import Parallel, delayed\n",
    "from tqdm import tqdm"
   ]
  },
  {
   "cell_type": "markdown",
   "id": "5059780a5c3f055e",
   "metadata": {},
   "source": [
    "## Get a list of filenames"
   ]
  },
  {
   "cell_type": "code",
   "execution_count": null,
   "id": "eff3ce8ea10f841a",
   "metadata": {},
   "outputs": [],
   "source": [
    "filepaths = get_all_filenames(PATH_TO_PROCESSED_JSON)\n",
    "print(f\"Number of files: {len(filepaths)}\")"
   ]
  },
  {
   "cell_type": "markdown",
   "id": "716d8a41cd7fa609",
   "metadata": {},
   "source": [
    "## Split filepaths into `train` and `eval`"
   ]
  },
  {
   "cell_type": "code",
   "execution_count": null,
   "id": "87c265c19ca8cac5",
   "metadata": {},
   "outputs": [],
   "source": [
    "train_filepaths, test_filepaths = split_train_eval(filepaths)"
   ]
  },
  {
   "cell_type": "code",
   "execution_count": null,
   "id": "78ad7f024b57dda6",
   "metadata": {},
   "outputs": [],
   "source": [
    "print(len(train_filepaths), len(test_filepaths))"
   ]
  },
  {
   "cell_type": "markdown",
   "id": "40aa7bc530e835f2",
   "metadata": {},
   "source": [
    "## Load and convert to `Data` objects "
   ]
  },
  {
   "cell_type": "code",
   "execution_count": null,
   "id": "8c458e9bc1c0f631",
   "metadata": {},
   "outputs": [],
   "source": [
    "train_data_tensors = Parallel(n_jobs=NUM_CPUS_TO_USE)(delayed(process_single_graph)(filename) for filename in tqdm(train_filepaths))\n",
    "test_data_tensors = Parallel(n_jobs=NUM_CPUS_TO_USE)(delayed(process_single_graph)(filename) for filename in tqdm(test_filepaths))"
   ]
  },
  {
   "cell_type": "markdown",
   "id": "a12edd7cc61da477",
   "metadata": {},
   "source": [
    "## Format and Clean `Data` Objects"
   ]
  },
  {
   "cell_type": "code",
   "execution_count": null,
   "id": "b964865dc88e822b",
   "metadata": {},
   "outputs": [],
   "source": [
    "train_data_tensors_clean = format_and_clean_up_data_objs(train_data_tensors)\n",
    "test_data_tensors_clean = format_and_clean_up_data_objs(test_data_tensors)"
   ]
  },
  {
   "cell_type": "markdown",
   "id": "8b9583ecd9309f2c",
   "metadata": {},
   "source": [
    "## Save processed `Data` objects to pickle file"
   ]
  },
  {
   "cell_type": "code",
   "execution_count": null,
   "id": "d6413cc77b3cec05",
   "metadata": {},
   "outputs": [],
   "source": [
    "save_as_pickled_data(train_data_tensors_clean, OUTPUT_TRAIN_PKL_FILENAME)\n",
    "save_as_pickled_data(test_data_tensors_clean, OUTPUT_TEST_PKL_FILENAME)"
   ]
  }
 ],
 "metadata": {
  "kernelspec": {
   "display_name": "Python 3",
   "language": "python",
   "name": "python3"
  },
  "language_info": {
   "codemirror_mode": {
    "name": "ipython",
    "version": 3
   },
   "file_extension": ".py",
   "mimetype": "text/x-python",
   "name": "python",
   "nbconvert_exporter": "python",
   "pygments_lexer": "ipython3",
   "version": "3.12.4"
  }
 },
 "nbformat": 4,
 "nbformat_minor": 5
}
